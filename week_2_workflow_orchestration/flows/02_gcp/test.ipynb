{
 "cells": [
  {
   "cell_type": "code",
   "execution_count": 13,
   "metadata": {},
   "outputs": [
    {
     "ename": "ModuleNotFoundError",
     "evalue": "No module named 'prefect'",
     "output_type": "error",
     "traceback": [
      "\u001b[1;31m---------------------------------------------------------------------------\u001b[0m",
      "\u001b[1;31mModuleNotFoundError\u001b[0m                       Traceback (most recent call last)",
      "\u001b[1;32mc:\\BI\\data-engineering-zoomcamp-2023\\week_2_workflow_orchestration\\flows\\02_gcp\\test.ipynb Cell 1\u001b[0m in \u001b[0;36m<cell line: 4>\u001b[1;34m()\u001b[0m\n\u001b[0;32m      <a href='vscode-notebook-cell:/c%3A/BI/data-engineering-zoomcamp-2023/week_2_workflow_orchestration/flows/02_gcp/test.ipynb#W0sZmlsZQ%3D%3D?line=1'>2</a>\u001b[0m \u001b[39mimport\u001b[39;00m \u001b[39mpandas\u001b[39;00m \u001b[39mas\u001b[39;00m \u001b[39mpd\u001b[39;00m\n\u001b[0;32m      <a href='vscode-notebook-cell:/c%3A/BI/data-engineering-zoomcamp-2023/week_2_workflow_orchestration/flows/02_gcp/test.ipynb#W0sZmlsZQ%3D%3D?line=2'>3</a>\u001b[0m \u001b[39mimport\u001b[39;00m \u001b[39mos\u001b[39;00m\n\u001b[1;32m----> <a href='vscode-notebook-cell:/c%3A/BI/data-engineering-zoomcamp-2023/week_2_workflow_orchestration/flows/02_gcp/test.ipynb#W0sZmlsZQ%3D%3D?line=3'>4</a>\u001b[0m \u001b[39mfrom\u001b[39;00m \u001b[39mprefect\u001b[39;00m \u001b[39mimport\u001b[39;00m flow, task\n\u001b[0;32m      <a href='vscode-notebook-cell:/c%3A/BI/data-engineering-zoomcamp-2023/week_2_workflow_orchestration/flows/02_gcp/test.ipynb#W0sZmlsZQ%3D%3D?line=4'>5</a>\u001b[0m \u001b[39mfrom\u001b[39;00m \u001b[39mprefect_gcp\u001b[39;00m\u001b[39m.\u001b[39;00m\u001b[39mcloud_storage\u001b[39;00m \u001b[39mimport\u001b[39;00m GcsBucket\n\u001b[0;32m      <a href='vscode-notebook-cell:/c%3A/BI/data-engineering-zoomcamp-2023/week_2_workflow_orchestration/flows/02_gcp/test.ipynb#W0sZmlsZQ%3D%3D?line=5'>6</a>\u001b[0m \u001b[39mfrom\u001b[39;00m \u001b[39mrandom\u001b[39;00m \u001b[39mimport\u001b[39;00m randint\n",
      "\u001b[1;31mModuleNotFoundError\u001b[0m: No module named 'prefect'"
     ]
    }
   ],
   "source": [
    "from pathlib import Path, PurePath, PurePosixPath\n",
    "import pandas as pd\n",
    "import os\n",
    "from prefect import flow, task\n",
    "from prefect_gcp.cloud_storage import GcsBucket\n",
    "from random import randint"
   ]
  },
  {
   "cell_type": "code",
   "execution_count": 3,
   "metadata": {},
   "outputs": [],
   "source": [
    "color = \"green\"\n",
    "year = 2020\n",
    "month = 1\n",
    "dataset_file = f\"{color}_tripdata_{year}-{month:02}\"\n",
    "dataset_url = f\"https://github.com/DataTalksClub/nyc-tlc-data/releases/download/{color}/{dataset_file}.csv.gz\"\n"
   ]
  },
  {
   "cell_type": "code",
   "execution_count": 14,
   "metadata": {},
   "outputs": [
    {
     "name": "stdout",
     "output_type": "stream",
     "text": [
      "data\\green\\green_tripdata_2020-01.parquet data/green/green_tripdata_2020-01.parquet\n"
     ]
    }
   ],
   "source": [
    "\n",
    "#def write_local(df: pd.DataFrame, color: str, dataset_file: str) -> Path:\n",
    "\"\"\"Write DataFrame out locally as parquet file\"\"\"\n",
    "path = PurePath(\"data\",color,f\"{dataset_file}.parquet\")\n",
    "path2 = PurePosixPath(\"data\",color,f\"{dataset_file}.parquet\")\n",
    "#path = os.path.join(\"data\",color,f\"{dataset_file}.parquet\")\n",
    "#df.to_parquet(path, compression=\"gzip\")\n",
    "print(path,path2)"
   ]
  }
 ],
 "metadata": {
  "kernelspec": {
   "display_name": "Python 3.9.12 ('base')",
   "language": "python",
   "name": "python3"
  },
  "language_info": {
   "codemirror_mode": {
    "name": "ipython",
    "version": 3
   },
   "file_extension": ".py",
   "mimetype": "text/x-python",
   "name": "python",
   "nbconvert_exporter": "python",
   "pygments_lexer": "ipython3",
   "version": "3.9.12"
  },
  "orig_nbformat": 4,
  "vscode": {
   "interpreter": {
    "hash": "ad2bdc8ecc057115af97d19610ffacc2b4e99fae6737bb82f5d7fb13d2f2c186"
   }
  }
 },
 "nbformat": 4,
 "nbformat_minor": 2
}
